{
 "cells": [
  {
   "cell_type": "code",
   "execution_count": 6,
   "metadata": {},
   "outputs": [],
   "source": [
    "import cv2\n",
    "url = 'https://soa.tainan.gov.tw/Mjpeg?name=TNCCTVNEW&positionCol=Location&positionName=%E5%8C%97%E9%96%80%E8%B7%AF%E4%B8%80%E6%AE%B5%E8%88%87%E8%A1%9B%E6%B0%91%E8%A1%97%E5%8F%A3%E5%8D%97%E6%A1%BF(%E5%90%91%E5%8C%97)&urlCol=url'\n",
    "url2 = 'https://soa.tainan.gov.tw/Mjpeg?name=TNCCTVNEW&positionCol=Location&positionName=%E6%B0%91%E6%97%8F%E8%B7%AF%E4%B8%80%E6%AE%B5%E8%88%87%E5%89%8D%E9%8B%92%E8%B7%AF%E5%8F%A3%E8%A5%BF%E6%A1%BF(%E5%90%91%E6%9D%B1)&urlCol=url'\n",
    "cap = cv2.VideoCapture(url) \n",
    "cap2 = cv2.VideoCapture(url2) \n"
   ]
  },
  {
   "cell_type": "code",
   "execution_count": 7,
   "metadata": {},
   "outputs": [],
   "source": [
    "if not cap.isOpened():\n",
    "    print(\"Cannot open camera\")\n",
    "    exit()\n",
    "if not cap2.isOpened():\n",
    "    print(\"Cannot open camera\")\n",
    "    exit()\n",
    "while True:\n",
    "    ret, frame = cap.read()             # 讀取影片的每一幀\n",
    "    ret2, frame2 = cap2.read()             # 讀取影片的每一幀\n",
    "    if not ret:\n",
    "        print(\"Cannot receive frame\")   # 如果讀取錯誤，印出訊息\n",
    "        cap = cv2.VideoCapture(url)     # 有時候串流間隔時間較久會中斷，中斷時重新讀取\n",
    "    if not ret2:    \n",
    "        cap2 = cv2.VideoCapture(url2)     # 有時候串流間隔時間較久會中斷，中斷時重新讀取\n",
    "        continue\n",
    "    cv2.imshow('oxxostudio', frame)     # 如果讀取成功，顯示該幀的畫面\n",
    "    cv2.imshow('oxoostudio2', frame2)\n",
    "    if cv2.waitKey(1) == ord('q'):      # 每一毫秒更新一次，直到按下 q 結束\n",
    "        break\n",
    "cap.release()                           # 所有作業都完成後，釋放資源\n",
    "cv2.destroyAllWindows() "
   ]
  }
 ],
 "metadata": {
  "kernelspec": {
   "display_name": "Python 3",
   "language": "python",
   "name": "python3"
  },
  "language_info": {
   "codemirror_mode": {
    "name": "ipython",
    "version": 3
   },
   "file_extension": ".py",
   "mimetype": "text/x-python",
   "name": "python",
   "nbconvert_exporter": "python",
   "pygments_lexer": "ipython3",
   "version": "3.11.4"
  }
 },
 "nbformat": 4,
 "nbformat_minor": 2
}
