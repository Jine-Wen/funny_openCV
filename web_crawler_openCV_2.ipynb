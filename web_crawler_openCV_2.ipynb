{
 "cells": [
  {
   "cell_type": "code",
   "execution_count": 23,
   "metadata": {},
   "outputs": [],
   "source": [
    "import cv2\n",
    "url = 'https://soa.tainan.gov.tw/Mjpeg?name=TNCCTVNEW&positionCol=Location&positionName=%E5%B0%8F%E6%9D%B1%E8%B7%AF%E8%88%87%E4%B8%AD%E8%8F%AF%E6%9D%B1%E8%B7%AF%E4%B8%80%E6%AE%B5%E5%8F%A3%E5%8C%97%E6%A1%BF(%E5%90%91%E5%8D%97)&urlCol=url'\n",
    "url2 = 'https://soa.tainan.gov.tw/Mjpeg?name=TNCCTVNEW&positionCol=Location&positionName=%E6%B0%91%E6%97%8F%E8%B7%AF%E4%B8%80%E6%AE%B5%E8%88%87%E5%89%8D%E9%8B%92%E8%B7%AF%E5%8F%A3%E8%A5%BF%E6%A1%BF(%E5%90%91%E6%9D%B1)&urlCol=url'\n",
    "\n",
    "cap = cv2.VideoCapture(url) \n",
    "car = cv2.CascadeClassifier(\"cars.xml\")\n",
    "\n"
   ]
  },
  {
   "cell_type": "code",
   "execution_count": 24,
   "metadata": {},
   "outputs": [],
   "source": [
    "if not cap.isOpened():\n",
    "    print(\"Cannot open camera\")\n",
    "    exit()\n",
    "while True:\n",
    "    ret, frame = cap.read()\n",
    "    if not ret:\n",
    "        print(\"Cannot receive frame\")\n",
    "        break\n",
    "    gray = cv2.cvtColor(frame, cv2.COLOR_BGR2GRAY)   # 將鏡頭影像轉換成灰階\n",
    "    gray = cv2.medianBlur(gray, 7)                  # 模糊化去除雜訊\n",
    "    cars = car.detectMultiScale(gray, 1.1, 5)       # 偵測汽車\n",
    "    for (x, y, w, h) in cars:\n",
    "        cv2.rectangle(frame, (x, y), (x+w, y+h), (0, 255, 0), 2)   # 繪製外框\n",
    "    cv2.imshow('oxxostudio', frame)\n",
    "    if cv2.waitKey(1) == ord('q'):\n",
    "        break\n",
    "cap.release()\n",
    "cv2.destroyAllWindows() "
   ]
  }
 ],
 "metadata": {
  "kernelspec": {
   "display_name": "Python 3",
   "language": "python",
   "name": "python3"
  },
  "language_info": {
   "codemirror_mode": {
    "name": "ipython",
    "version": 3
   },
   "file_extension": ".py",
   "mimetype": "text/x-python",
   "name": "python",
   "nbconvert_exporter": "python",
   "pygments_lexer": "ipython3",
   "version": "3.11.4"
  }
 },
 "nbformat": 4,
 "nbformat_minor": 2
}
